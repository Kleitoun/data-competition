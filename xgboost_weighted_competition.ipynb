{
  "nbformat": 4,
  "nbformat_minor": 5,
  "metadata": {
    "kernelspec": {
      "display_name": "Python 3",
      "language": "python",
      "name": "python3"
    },
    "language_info": {
      "codemirror_mode": {
        "name": "ipython",
        "version": 3
      },
      "file_extension": ".py",
      "mimetype": "text/x-python",
      "name": "python",
      "nbconvert_exporter": "python",
      "pygments_lexer": "ipython3",
      "version": "3.8.8"
    },
    "colab": {
      "name": "xgboost_weighted_competition.ipynb",
      "provenance": [],
      "collapsed_sections": []
    }
  },
  "cells": [
    {
      "cell_type": "code",
      "metadata": {
        "colab": {
          "base_uri": "https://localhost:8080/"
        },
        "id": "_rZLrtJfWBqG",
        "outputId": "bdb76e2d-0c95-498f-f44e-aed44eddcfca"
      },
      "source": [
        "from google.colab import drive\n",
        "drive.mount('/content/drive')"
      ],
      "id": "_rZLrtJfWBqG",
      "execution_count": null,
      "outputs": [
        {
          "output_type": "stream",
          "name": "stdout",
          "text": [
            "Mounted at /content/drive\n"
          ]
        }
      ]
    },
    {
      "cell_type": "markdown",
      "metadata": {
        "id": "l65ZReN30kel"
      },
      "source": [
        ""
      ],
      "id": "l65ZReN30kel"
    },
    {
      "cell_type": "code",
      "metadata": {
        "colab": {
          "base_uri": "https://localhost:8080/"
        },
        "id": "SYNFKbjpWKQZ",
        "outputId": "03cb6872-e713-4ada-b188-5228d4ce63de"
      },
      "source": [
        "%cd '/content/drive/MyDrive/Colab Notebooks'"
      ],
      "id": "SYNFKbjpWKQZ",
      "execution_count": null,
      "outputs": [
        {
          "output_type": "stream",
          "name": "stdout",
          "text": [
            "/content/drive/MyDrive/Colab Notebooks\n"
          ]
        }
      ]
    },
    {
      "cell_type": "code",
      "metadata": {
        "id": "d3kw3JUrWDL9"
      },
      "source": [
        "import numpy as np\n",
        "import pandas as pd\n",
        "import math\n",
        "import xgboost as xgb\n",
        "import matplotlib.pyplot as plt \n",
        "from sklearn.model_selection import train_test_split, GridSearchCV, StratifiedKFold\n",
        "from sklearn.metrics import accuracy_score, ConfusionMatrixDisplay, plot_confusion_matrix, classification_report\n",
        "from sklearn.preprocessing import MinMaxScaler\n",
        "from sklearn.utils import compute_sample_weight"
      ],
      "id": "d3kw3JUrWDL9",
      "execution_count": null,
      "outputs": []
    },
    {
      "cell_type": "markdown",
      "metadata": {
        "id": "3015ac64-2b49-4097-91dc-0657084029f1"
      },
      "source": [
        "## Splitting data into a training and validation set"
      ],
      "id": "3015ac64-2b49-4097-91dc-0657084029f1"
    },
    {
      "cell_type": "code",
      "metadata": {
        "id": "48a84c38-4716-498d-a0cf-fbca42ffe8df"
      },
      "source": [
        "train = pd.read_csv('train.csv').drop(columns=['S.No','PSL','TREFHT','time'])\n",
        "test = pd.read_csv('test.csv').drop(columns=['S.No','PSL','TREFHT','time'])\n",
        "X = train.drop(columns='LABELS')\n",
        "y = train.loc[:,['LABELS']]\n",
        "X_train, X_val, y_train, y_val = train_test_split(X, y, test_size=0.1,random_state=1, stratify=y)"
      ],
      "id": "48a84c38-4716-498d-a0cf-fbca42ffe8df",
      "execution_count": null,
      "outputs": []
    },
    {
      "cell_type": "markdown",
      "metadata": {
        "id": "609c0fa6-afa8-47ea-9b94-7ddd259c5921"
      },
      "source": [
        "## Normalization of the training and test points"
      ],
      "id": "609c0fa6-afa8-47ea-9b94-7ddd259c5921"
    },
    {
      "cell_type": "code",
      "metadata": {
        "id": "a7f83779-d3a3-48c6-b8c6-307c1ef54295"
      },
      "source": [
        "scaler = MinMaxScaler()\n",
        "scaler.fit(X_train)\n",
        "X_train_norm = scaler.transform(X_train)\n",
        "X_val_norm = scaler.transform(X_val)"
      ],
      "id": "a7f83779-d3a3-48c6-b8c6-307c1ef54295",
      "execution_count": null,
      "outputs": []
    },
    {
      "cell_type": "markdown",
      "metadata": {
        "id": "012004ae-382e-4a7d-9d01-33edac53f34f"
      },
      "source": [
        "## Instantiation of the model"
      ],
      "id": "012004ae-382e-4a7d-9d01-33edac53f34f"
    },
    {
      "cell_type": "code",
      "metadata": {
        "id": "9d5ae522-f439-4b6e-ab28-05926fde2d6f"
      },
      "source": [
        "model = xgb.XGBClassifier()\n",
        "param_grid = {'objective':['multi:softprob'],\n",
        "             'eval_metric':['mlogloss'],\n",
        "             'use_label_encoder':[False],\n",
        "             'n_jobs':[-1],\n",
        "             'random_state':[1],\n",
        "             'num_class':[y_train.LABELS.nunique()],\n",
        "             'n_estimators':[10000],\n",
        "             'tree_method':['gpu_hist']}"
      ],
      "id": "9d5ae522-f439-4b6e-ab28-05926fde2d6f",
      "execution_count": null,
      "outputs": []
    },
    {
      "cell_type": "code",
      "metadata": {
        "colab": {
          "base_uri": "https://localhost:8080/"
        },
        "id": "c3e42582-1cba-4bf6-b66e-ae5c5b5b9148",
        "outputId": "885a1ef6-dea3-46a4-933f-5d43b5b4e04a"
      },
      "source": [
        " %%time\n",
        "sample_weight = compute_sample_weight('balanced', y_train)\n",
        "cv = StratifiedKFold(n_splits=5,shuffle=True)\n",
        "search = GridSearchCV(model,param_grid,scoring='balanced_accuracy',cv=cv,refit=False,error_score='raise')\n",
        "fit = search.fit(X_train_norm,np.ravel(y_train),sample_weight=sample_weight)"
      ],
      "id": "c3e42582-1cba-4bf6-b66e-ae5c5b5b9148",
      "execution_count": null,
      "outputs": [
        {
          "output_type": "stream",
          "name": "stdout",
          "text": [
            "CPU times: user 24min 52s, sys: 2.5 s, total: 24min 55s\n",
            "Wall time: 6min 17s\n"
          ]
        }
      ]
    },
    {
      "cell_type": "markdown",
      "metadata": {
        "id": "4f8a838b-8f79-4683-ad40-840a3c948dbb"
      },
      "source": [
        "## Plotting the learning curves with respect to the evaluation metric"
      ],
      "id": "4f8a838b-8f79-4683-ad40-840a3c948dbb"
    },
    {
      "cell_type": "code",
      "metadata": {
        "colab": {
          "base_uri": "https://localhost:8080/"
        },
        "id": "6d342f47-a1fe-4074-8f76-adc87fdab6cc",
        "outputId": "18bbd791-1a39-46ae-c0c4-b7c6d2c6c12d"
      },
      "source": [
        "%%time\n",
        "evaluation_set = [(X_train_norm,np.ravel(y_train)),(X_val_norm,np.ravel(y_val))]\n",
        "best_params = fit.best_params_\n",
        "model.set_params(**best_params)"
      ],
      "id": "6d342f47-a1fe-4074-8f76-adc87fdab6cc",
      "execution_count": null,
      "outputs": [
        {
          "output_type": "stream",
          "name": "stdout",
          "text": [
            "CPU times: user 107 µs, sys: 0 ns, total: 107 µs\n",
            "Wall time: 111 µs\n"
          ]
        }
      ]
    },
    {
      "cell_type": "code",
      "metadata": {
        "id": "oUgL8iXA0SuF"
      },
      "source": [
        "# Refit model\n",
        "model = model.fit(X_train_norm,np.ravel(y_train),eval_metric=['merror','mlogloss'],eval_set=evaluation_set,verbose=False,early_stopping_rounds=10,sample_weight=sample_weight)\n",
        "eval_results = model.evals_result()\n",
        "# Epochs\n",
        "epochs = np.arange(len(eval_results['validation_1']['mlogloss']))"
      ],
      "id": "oUgL8iXA0SuF",
      "execution_count": null,
      "outputs": []
    },
    {
      "cell_type": "code",
      "metadata": {
        "colab": {
          "base_uri": "https://localhost:8080/",
          "height": 607
        },
        "id": "b0e21dbb-2dd5-407b-a310-4f96d019e175",
        "outputId": "ebd938df-1ff1-4ca9-a772-09f4b257967d"
      },
      "source": [
        "fig,axes = plt.subplots(2,figsize=(20,10))\n",
        "axes[0].plot(epochs, eval_results['validation_0']['mlogloss'],label='train')\n",
        "axes[0].plot(epochs, eval_results['validation_1']['mlogloss'],label='test')\n",
        "axes[0].set_title('Loss learning curve')\n",
        "axes[1].plot(epochs, eval_results['validation_0']['merror'],label='train')\n",
        "axes[1].plot(epochs, eval_results['validation_1']['merror'],label='test')\n",
        "axes[1].set_title('Merror learning curve')\n",
        "plt.legend()\n",
        "plt.show()"
      ],
      "id": "b0e21dbb-2dd5-407b-a310-4f96d019e175",
      "execution_count": null,
      "outputs": [
        {
          "output_type": "display_data",
          "data": {
            "image/png": "[encoded data removed]",
            "text/plain": [
              "<Figure size 1440x720 with 2 Axes>"
            ]
          },
          "metadata": {
            "needs_background": "light"
          }
        }
      ]
    },
    {
      "cell_type": "markdown",
      "metadata": {
        "id": "120e06d9-9449-4e50-ab86-cdae388661a6"
      },
      "source": [
        "## Computing the accuracy of the model on the validation set"
      ],
      "id": "120e06d9-9449-4e50-ab86-cdae388661a6"
    },
    {
      "cell_type": "code",
      "metadata": {
        "colab": {
          "base_uri": "https://localhost:8080/"
        },
        "id": "e8ba1cb8-5a95-4fb1-925d-870406b5d13a",
        "outputId": "7392edb0-5bfa-445d-ac66-f9bd8c218b98"
      },
      "source": [
        "val_preds = model.predict(X_val_norm)\n",
        "accuracy = accuracy_score(y_val,val_preds)\n",
        "print('Accuracy: {}%'.format(np.around(accuracy*100, 2)))"
      ],
      "id": "e8ba1cb8-5a95-4fb1-925d-870406b5d13a",
      "execution_count": null,
      "outputs": [
        {
          "output_type": "stream",
          "name": "stdout",
          "text": [
            "Accuracy: 87.4%\n"
          ]
        }
      ]
    },
    {
      "cell_type": "markdown",
      "metadata": {
        "id": "0872545d-6cc2-46ba-8a1a-2a6290393987"
      },
      "source": [
        "## Data visualization"
      ],
      "id": "0872545d-6cc2-46ba-8a1a-2a6290393987"
    },
    {
      "cell_type": "code",
      "metadata": {
        "colab": {
          "base_uri": "https://localhost:8080/"
        },
        "id": "05fa4ec6-c17a-498b-92ea-f897ec1b9006",
        "outputId": "cd358f6d-4dd6-4263-d14f-2ae0da030840"
      },
      "source": [
        "print(classification_report(y_val,val_preds))"
      ],
      "id": "05fa4ec6-c17a-498b-92ea-f897ec1b9006",
      "execution_count": null,
      "outputs": [
        {
          "output_type": "stream",
          "name": "stdout",
          "text": [
            "              precision    recall  f1-score   support\n",
            "\n",
            "           0       0.98      0.86      0.92      3754\n",
            "           1       0.61      0.92      0.73       200\n",
            "           2       0.64      0.92      0.76       822\n",
            "\n",
            "    accuracy                           0.87      4776\n",
            "   macro avg       0.74      0.90      0.80      4776\n",
            "weighted avg       0.91      0.87      0.88      4776\n",
            "\n"
          ]
        }
      ]
    },
    {
      "cell_type": "code",
      "metadata": {
        "colab": {
          "base_uri": "https://localhost:8080/",
          "height": 574
        },
        "id": "00c64109-b5f4-4329-b92b-753af5729bfb",
        "outputId": "146f194d-0c12-4573-b04a-9b638b883066"
      },
      "source": [
        "fig,ax = plt.subplots(figsize=(10,10))\n",
        "plot_confusion_matrix(model,X_val_norm,y_val, ax=ax)\n",
        "plt.show()"
      ],
      "id": "00c64109-b5f4-4329-b92b-753af5729bfb",
      "execution_count": null,
      "outputs": [
        {
          "output_type": "display_data",
          "data": {
            "image/png": "[encoded data removed]",
            "text/plain": [
              "<Figure size 720x720 with 2 Axes>"
            ]
          },
          "metadata": {
            "needs_background": "light"
          }
        }
      ]
    },
    {
      "cell_type": "markdown",
      "metadata": {
        "id": "1a231bd1-5ac8-4e08-b213-7505cae8c31b"
      },
      "source": [
        "## Predicting our test set labels"
      ],
      "id": "1a231bd1-5ac8-4e08-b213-7505cae8c31b"
    },
    {
      "cell_type": "code",
      "metadata": {
        "id": "13961b31-cead-4afc-b5d2-4074e93458ce"
      },
      "source": [
        "test_norm = scaler.transform(test)\n",
        "test_labels = model.predict(test_norm)"
      ],
      "id": "13961b31-cead-4afc-b5d2-4074e93458ce",
      "execution_count": null,
      "outputs": []
    },
    {
      "cell_type": "code",
      "metadata": {
        "id": "4efb09d6-7db6-4f31-8dbd-f8669ad2bc14"
      },
      "source": [
        "df_submission = pd.DataFrame({'LABELS':test_labels})\n",
        "df_submission.reset_index(inplace=True)\n",
        "df_submission.rename(columns={'index':'S.No'},inplace=True)"
      ],
      "id": "4efb09d6-7db6-4f31-8dbd-f8669ad2bc14",
      "execution_count": null,
      "outputs": []
    },
    {
      "cell_type": "code",
      "metadata": {
        "colab": {
          "base_uri": "https://localhost:8080/"
        },
        "id": "a719e7bb-d83a-4956-9a85-288447031c90",
        "outputId": "9ac8a656-255c-4f35-bb5d-48d94f627e3f"
      },
      "source": [
        "df_submission.LABELS.value_counts()"
      ],
      "id": "a719e7bb-d83a-4956-9a85-288447031c90",
      "execution_count": null,
      "outputs": [
        {
          "output_type": "execute_result",
          "data": {
            "text/plain": [
              "0    4934\n",
              "2    1733\n",
              "1     653\n",
              "Name: LABELS, dtype: int64"
            ]
          },
          "metadata": {},
          "execution_count": 16
        }
      ]
    },
    {
      "cell_type": "code",
      "metadata": {
        "id": "5475a457-83ad-44c2-9f4c-2f47cd35a830"
      },
      "source": [
        "df_submission.LABELS.value_counts()\n",
        "df_submission.to_csv('predictions_weighted.csv',index=False)"
      ],
      "id": "5475a457-83ad-44c2-9f4c-2f47cd35a830",
      "execution_count": null,
      "outputs": []
    }
  ]
}